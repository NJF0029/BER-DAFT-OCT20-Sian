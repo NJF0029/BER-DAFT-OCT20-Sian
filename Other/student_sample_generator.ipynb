{
 "cells": [
  {
   "cell_type": "code",
   "execution_count": null,
   "metadata": {},
   "outputs": [],
   "source": [
    "import csv\n",
    "import random\n",
    "\n",
    "def make_studentslist(students_csv_from_campustools):\n",
    "    \"\"\"Returns a list of students\n",
    "\n",
    "    Keyword arguments:\n",
    "    students_csv_from_campustools -- the csv file generated in campustools\n",
    "    \"\"\"\n",
    "    students_lst = []\n",
    "    with open(students_csv_from_campustools, newline='') as csvfile:\n",
    "        spamreader = csv.reader(csvfile, delimiter=',', quotechar='|')\n",
    "        next(spamreader)\n",
    "        for row in spamreader:\n",
    "            students_lst.append(' '.join(row[0:2]))\n",
    "    return students_lst\n",
    "        \n",
    "def get_rnd_students(n_students, students_lst):\n",
    "    return random.sample(students_lst, n_students)"
   ]
  },
  {
   "cell_type": "code",
   "execution_count": null,
   "metadata": {},
   "outputs": [],
   "source": [
    "# Creating a list (first and last names of students enrolled)\n",
    "students_lst = make_studentslist('students.csv')"
   ]
  },
  {
   "cell_type": "code",
   "execution_count": null,
   "metadata": {},
   "outputs": [],
   "source": [
    "# Creating a random sample (without replacement) of 8 students\n",
    "get_rnd_students(8, students_lst)"
   ]
  }
 ],
 "metadata": {
  "kernelspec": {
   "display_name": "Python 3",
   "language": "python",
   "name": "python3"
  },
  "language_info": {
   "codemirror_mode": {
    "name": "ipython",
    "version": 3
   },
   "file_extension": ".py",
   "mimetype": "text/x-python",
   "name": "python",
   "nbconvert_exporter": "python",
   "pygments_lexer": "ipython3",
   "version": "3.8.5"
  }
 },
 "nbformat": 4,
 "nbformat_minor": 4
}
