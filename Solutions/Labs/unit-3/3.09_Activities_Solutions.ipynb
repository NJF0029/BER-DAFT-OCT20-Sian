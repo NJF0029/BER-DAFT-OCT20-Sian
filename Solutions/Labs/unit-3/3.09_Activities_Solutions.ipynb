{
 "cells": [
  {
   "cell_type": "markdown",
   "metadata": {},
   "source": [
    "# Activity 1 "
   ]
  },
  {
   "cell_type": "markdown",
   "metadata": {},
   "source": [
    "ROC does not depend on the class distribution. This makes it useful for evaluating classifiers predicting rare events such as diseases or disasters. In contrast, evaluating performance using accuracy (TP + TN)/(TP + TN + FN + FP) would favor classifiers that always predict a negative outcome for rare events."
   ]
  },
  {
   "cell_type": "markdown",
   "metadata": {},
   "source": [
    "# Activity 2 "
   ]
  },
  {
   "cell_type": "markdown",
   "metadata": {},
   "source": [
    "If a client will renew his subscription\n",
    "If a visitor to our online shop will buy or not\n",
    "If a person will attend a clinical appointment\n",
    "If an student will fail their exam"
   ]
  },
  {
   "cell_type": "markdown",
   "metadata": {},
   "source": [
    "# Activity 3 "
   ]
  },
  {
   "cell_type": "code",
   "execution_count": null,
   "metadata": {},
   "outputs": [],
   "source": [
    "## check correlation\n",
    "plt.figure(figsize = (10,8))\n",
    "  sns.heatmap(pd.DataFrame(x, columns=data.select_dtypes(include = np.number).columns).corr(), annot=True)\n",
    "  plt.title('Correlation of Variables')\n",
    "  plt.show()\n",
    "\n",
    "## generate log odds\n",
    "def log_odds(features, coefficients, intercept):\n",
    "    return (np.dot(features,coefficients) + intercept)\n",
    "\n",
    "calculated_log_odds = log_odds(features, model.coef_, model.intercept_)\n",
    "\n",
    "# check linearity visually\n",
    "plt.scatter(calculated_log_odds[:,1], features[:,1])"
   ]
  },
  {
   "cell_type": "markdown",
   "metadata": {},
   "source": [
    "# Activity 4"
   ]
  },
  {
   "cell_type": "code",
   "execution_count": null,
   "metadata": {},
   "outputs": [],
   "source": [
    "sns.countplot(y)\n",
    "plt.scatter(X[:,0], X[:,1],c=y)\n",
    "\n",
    "X_rus, y_rus = RandomUnderSampler().fit_sample(X, y)\n",
    "plt.scatter(X_rus[:,0], X_rus[:,1],c=y_rus)\n",
    "sns.countplot(y_rus)\n",
    "\n",
    "X_ros, y_ros = RandomOverSampler().fit_sample(X, y)\n",
    "plt.scatter(X_ros[y_ros==0,0], X_ros[y_ros==0,1])\n",
    "sns.countplot(y_ros)"
   ]
  }
 ],
 "metadata": {
  "kernelspec": {
   "display_name": "Python 3",
   "language": "python",
   "name": "python3"
  },
  "language_info": {
   "codemirror_mode": {
    "name": "ipython",
    "version": 3
   },
   "file_extension": ".py",
   "mimetype": "text/x-python",
   "name": "python",
   "nbconvert_exporter": "python",
   "pygments_lexer": "ipython3",
   "version": "3.7.8"
  }
 },
 "nbformat": 4,
 "nbformat_minor": 4
}
